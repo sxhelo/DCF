{
 "cells": [
  {
   "cell_type": "code",
   "execution_count": 117,
   "id": "f9d15b8c",
   "metadata": {},
   "outputs": [],
   "source": [
    "import pandas as pd\n",
    "import pandas_datareader.data as web    # download US treasury bills to compute cost of debt (risk free rate)\n",
    "import datetime\n",
    "import yfinance as yf\n",
    "import requests          "
   ]
  },
  {
   "cell_type": "code",
   "execution_count": 118,
   "id": "2703a31b",
   "metadata": {},
   "outputs": [],
   "source": [
    "#!pip install chromedriver-binary\n",
    "import pandas as pd\n",
    "from bs4 import BeautifulSoup\n",
    "import re\n",
    "from selenium import webdriver\n",
    "import chromedriver_binary\n",
    "import string\n",
    "pd.options.display.float_format = '{:.0f}'.format\n",
    "import urllib"
   ]
  },
  {
   "cell_type": "code",
   "execution_count": 119,
   "id": "dc77db40",
   "metadata": {},
   "outputs": [
    {
     "name": "stderr",
     "output_type": "stream",
     "text": [
      "C:\\Users\\Utente\\AppData\\Local\\Temp\\ipykernel_18444\\3836706831.py:3: FutureWarning: In a future version of pandas all arguments of DataFrame.drop except for the argument 'labels' will be keyword-only.\n",
      "  DRS = DRS.drop(0, 0)\n"
     ]
    }
   ],
   "source": [
    "# Damodaran Rating System\n",
    "DRS = pd.read_csv(\"ICR_Damodaran.csv\", decimal='.')\n",
   ]
  },
  {
   "cell_type": "code",
   "execution_count": 120,
   "id": "b93808d7",
   "metadata": {},
   "outputs": [
    {
     "name": "stdout",
     "output_type": "stream",
     "text": [
      "16070800384\n"
     ]
    }
   ],
   "source": [
    "ticker = 'AAPL'\n",
    "aapl = yf.Ticker(ticker)\n",
    "OutS = aapl.info['sharesOutstanding']\n",
    "print(OutS)"
   ]
  },
  {
   "cell_type": "code",
   "execution_count": 121,
   "id": "a6a78697",
   "metadata": {},
   "outputs": [],
   "source": [
    "# Scrape CFS from yahoo finance\n",
    "is_link = 'https://finance.yahoo.com/quote/'+ticker+'/cash-flow?p='+ticker+''                                                                                                                                             \n",
    "driver = webdriver.Chrome()\n",
    "driver.get(is_link)\n",
    "html = driver.execute_script('return document.body.innerHTML;')\n",
    "soup = BeautifulSoup(html,'lxml')\n",
    "\n",
    "# Cash flow statement has same class attribute of D(tbr)\n",
    "features = soup.find_all('div', class_='D(tbr)')\n",
    "\n",
    "headers = []\n",
    "temp_list = []\n",
    "label_list = []\n",
    "final = []\n",
    "index = 0\n",
    "#create headers\n",
    "for item in features[0].find_all('div', class_='D(ib)'):\n",
    "    headers.append(item.text)\n",
    "#statement contents\n",
    "while index <= len(features)-1:\n",
    "    #filter for each line of the statement\n",
    "    temp = features[index].find_all('div', class_='D(tbc)')\n",
    "    for line in temp:\n",
    "        #each item adding to a temporary list\n",
    "        temp_list.append(line.text)\n",
    "    #temp_list added to final list\n",
    "    final.append(temp_list)\n",
    "    #clear temp_list\n",
    "    temp_list = []\n",
    "    index+=1\n",
    "df = pd.DataFrame(final[1:])\n",
    "df.columns = headers"
   ]
  },
  {
   "cell_type": "code",
   "execution_count": 122,
   "id": "abf992c7",
   "metadata": {},
   "outputs": [],
   "source": [
    "#function to make all values numerical\n",
    "def convert_to_numeric(column):\n",
    "    first_col = [i.replace(',','') for i in column]\n",
    "    second_col = [i.replace('-','') for i in first_col]\n",
    "    final_col = pd.to_numeric(second_col)\n",
    "    return final_col\n",
    "\n",
    "for column in headers[1:]:\n",
    "    df[column] = convert_to_numeric(df[column])\n",
    "final_df = df.fillna('-')"
   ]
  },
  {
   "cell_type": "code",
   "execution_count": 123,
   "id": "5a49af99",
   "metadata": {
    "scrolled": true
   },
   "outputs": [],
   "source": [
    "# Last 4 years free cash flow, in 1000s of $\n",
    "FCF = list(df.iloc[-1,1:len(df.columns)])"
   ]
  },
  {
   "cell_type": "code",
   "execution_count": 126,
   "id": "5c43b6e2",
   "metadata": {},
   "outputs": [
    {
     "name": "stdout",
     "output_type": "stream",
     "text": [
      "0.0291 42.288090737240076\n",
      "0.0358\n"
     ]
    }
   ],
   "source": [
    "company = ticker\n",
    "API_k = '37e96251a95442b1c2ab851bb8c5b8de'\n",
    "def interest_cov_and_Rf(company):\n",
    "    IS = requests.get(f'https://financialmodelingprep.com/api/v3/income-statement/{company}?apikey={API_k}').json()                                          \n",
    "    EBIT = IS[0]['ebitda'] - IS[0]['depreciationAndAmortization']\n",
    "    interest_expense = IS[0]['interestExpense']\n",
    "    interest_cov_ratio = EBIT / interest_expense\n",
    "    # Risk free rate\n",
    "    start = datetime.datetime(2021,8,3)\n",
    "    end = datetime.datetime.today().strftime('%Y-%m-%d')\n",
    "    Treasury = web.DataReader(['TB1YR'], 'fred', start, end)\n",
    "    Rf = float(Treasury.iloc[-1])\n",
    "    Rf = Rf/100\n",
    "    print(Rf, interest_cov_ratio)\n",
    "    return[Rf, interest_cov_ratio]\n",
    "\n",
    "interest = interest_cov_and_Rf(company)\n",
    "Rf = interest[0]\n",
    "interest_cov_ratio = interest[1]\n",
    "\n",
    "def cost_of_debt(company,Rf, interest_cov_ratio):\n",
    "    if interest_cov_ratio > DRS.loc[len(DRS), 'Greater than']:\n",
    "        credit_spread = DRS.loc[len(DRS),'Spread is']\n",
    "    for i in range(1, len(DRS)-1):\n",
    "        if (interest_cov_ratio > DRS.loc[i,'Greater than']) & (interest_cov_ratio <= DRS.loc[i,'<= to']):\n",
    "            credit_spread = DRS.loc[i,'Spread is']\n",
    "    if interest_cov_ratio <= DRS.loc[1, 'Greater than']:\n",
    "        credit_spread = DRS.loc[1,'Spread is']\n",
    "    cost_of_debt = Rf + credit_spread\n",
    "    print(cost_of_debt)\n",
    "    return cost_of_debt\n",
    "kd = cost_of_debt(company, Rf, interest_cov_ratio)  # cost of debt"
   ]
  },
  {
   "cell_type": "code",
   "execution_count": 127,
   "id": "fc7c1790",
   "metadata": {},
   "outputs": [
    {
     "name": "stdout",
     "output_type": "stream",
     "text": [
      "-0.051720722000895294\n"
     ]
    }
   ],
   "source": [
    "def costofequity(company):\n",
    "    # Risk free rate\n",
    "    start = datetime.datetime(2021,8,3)\n",
    "    end = datetime.datetime.today().strftime('%Y-%m-%d')\n",
    "    Treasury = web.DataReader(['TB1YR'], 'fred', start, end)\n",
    "    Rf = float(Treasury.iloc[-1])\n",
    "    Rf = Rf/100\n",
    "    # Beta\n",
    "    beta = requests.get(f'https://financialmodelingprep.com/api/v3/company/profile/{company}?apikey={API_k}').json()   \n",
    "    beta = float(beta['profile']['beta'])\n",
    "    # Market Return\n",
    "    start = datetime.datetime(2021,8,3)\n",
    "    end = datetime.datetime.today().strftime('%Y-%m-%d')\n",
    "    \n",
    "    sp500 = web.DataReader(['sp500'],'fred',start,end)\n",
    "    sp500.dropna(inplace=True)\n",
    "    sp500Yearly_Ret = (sp500['sp500'].iloc[-1]/sp500['sp500'].iloc[-252])-1\n",
    "    \n",
    "    cost_of_equity = Rf + (beta*sp500Yearly_Ret - Rf)\n",
    "    print(cost_of_equity)\n",
    "    return(cost_of_equity)\n",
    "ke = costofequity(company)"
   ]
  },
  {
   "cell_type": "code",
   "execution_count": 129,
   "id": "6fc2f76a",
   "metadata": {},
   "outputs": [],
   "source": [
    "def wacc(company):\n",
    "    FR = requests.get(f'https://financialmodelingprep.com/api/v3/ratios/{company}?apikey={API_k}').json()   \n",
    "    ETR = FR[0]['effectiveTaxRate']\n",
    "    # capital structure\n",
    "    BS = requests.get(f'https://financialmodelingprep.com/api/v3/balance-sheet-statement/{company}?period=quarter&apikey={API_k}').json()                         \n",
    "    Debt_to_equity = BS[0]['totalDebt'] / (BS[0]['totalDebt'] + BS[0]['totalStockholdersEquity'])\n",
    "    Equity_to_debt = BS[0]['totalStockholdersEquity'] / (BS[0]['totalDebt'] + BS[0]['totalStockholdersEquity'])\n",
    "    #wacc\n",
    "    WACC = (kd*(1-ETR)*Debt_to_equity) + (ke*Equity_to_debt)\n",
    "    print(WACC, Equity_to_debt, Debt_to_equity)\n",
    "    return WACC"
   ]
  },
  {
   "cell_type": "code",
   "execution_count": 130,
   "id": "ae8e3d2f",
   "metadata": {},
   "outputs": [],
   "source": [
    "# Assumptions:\n",
    "# WACC = WACC_company\n",
    "WACC = 0.07  #WACC\n",
    "TGR = 0.02  #Terminal Growth Rate\n",
    "CGR = 0.03  #Cash Flow growth rate\n",
    "years = [1,2,3,4]"
   ]
  },
  {
   "cell_type": "code",
   "execution_count": 131,
   "id": "10ca8e01",
   "metadata": {},
   "outputs": [
    {
     "name": "stdout",
     "output_type": "stream",
     "text": [
      "The fair value of AAPL is $76.62\n"
     ]
    }
   ],
   "source": [
    "#empty lists\n",
    "FFCF = []   #FFCF   Future Free Cash Flows\n",
    "discountfactor = []       # WACC\n",
    "discountedFFCF = []  # Discounted Future Free Cash Flows\n",
    "\n",
    "terminalvalue = FCF[-1] * (1+TGR)/(WACC-TGR) \n",
    "\n",
    "for year in years:\n",
    "    cashflow = FCF[-1] * (1+ CGR)**year\n",
    "    FFCF.append(cashflow)\n",
    "    discountfactor.append((1+WACC)**year) #compute discount value that we will use to discount the future cash flow                    \n",
    "for i in range(0, len(years)):\n",
    "    discountedFFCF.append(FFCF[i]/discountfactor[i])  #discounted FFCF\n",
    "discountedTV = terminalvalue/(1+WACC)**years[-1]   # discounted Terminal Value\n",
    "discountedFFCF.append(discountedTV)      \n",
    "                          \n",
    "todaysvalue = sum(discountedFFCF)              \n",
    "fairvalue = todaysvalue*1000/OutS\n",
    "\n",
    "print(\"The fair value of AAPL is ${}\".format(round(fairvalue,2)))"
   ]
  }
 ],
 "metadata": {
  "kernelspec": {
   "display_name": "Python 3 (ipykernel)",
   "language": "python",
   "name": "python3"
  },
  "language_info": {
   "codemirror_mode": {
    "name": "ipython",
    "version": 3
   },
   "file_extension": ".py",
   "mimetype": "text/x-python",
   "name": "python",
   "nbconvert_exporter": "python",
   "pygments_lexer": "ipython3",
   "version": "3.8.8"
  }
 },
 "nbformat": 4,
 "nbformat_minor": 5
}
